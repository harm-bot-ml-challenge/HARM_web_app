{
  "cells": [
    {
      "cell_type": "code",
      "source": [
        "!pip3 install youtube-comment-scraper-python"
      ],
      "outputs": [
        {
          "output_type": "stream",
          "name": "stdout",
          "text": [
            "Collecting youtube-comment-scraper-python\n",
            "  Downloading youtube-comment-scraper-python-1.0.0.tar.gz (2.6 kB)\n",
            "  Preparing metadata (setup.py) ... \u001b[?25l-\b \bdone\n",
            "\u001b[?25hCollecting requests\n",
            "  Using cached requests-2.28.1-py3-none-any.whl (62 kB)\n",
            "Collecting bot-studio\n",
            "  Using cached bot_studio-1.4.0-py3-none-any.whl\n",
            "Collecting tqdm\n",
            "  Downloading tqdm-4.64.1-py2.py3-none-any.whl (78 kB)\n",
            "\u001b[2K     \u001b[90m━━━━━━━━━━━━━━━━━━━━━━━━━━━━━━━━━━━━━━━━\u001b[0m \u001b[32m78.5/78.5 kB\u001b[0m \u001b[31m3.2 MB/s\u001b[0m eta \u001b[36m0:00:00\u001b[0m\n",
            "\u001b[?25hCollecting certifi>=2017.4.17\n",
            "  Downloading certifi-2022.9.24-py3-none-any.whl (161 kB)\n",
            "\u001b[2K     \u001b[90m━━━━━━━━━━━━━━━━━━━━━━━━━━━━━━━━━━━━━━━\u001b[0m \u001b[32m161.1/161.1 kB\u001b[0m \u001b[31m5.9 MB/s\u001b[0m eta \u001b[36m0:00:00\u001b[0m\n",
            "\u001b[?25hCollecting idna<4,>=2.5\n",
            "  Downloading idna-3.4-py3-none-any.whl (61 kB)\n",
            "\u001b[2K     \u001b[90m━━━━━━━━━━━━━━━━━━━━━━━━━━━━━━━━━━━━━━━━\u001b[0m \u001b[32m61.5/61.5 kB\u001b[0m \u001b[31m8.0 MB/s\u001b[0m eta \u001b[36m0:00:00\u001b[0m\n",
            "\u001b[?25hCollecting urllib3<1.27,>=1.21.1\n",
            "  Using cached urllib3-1.26.12-py2.py3-none-any.whl (140 kB)\n",
            "Collecting charset-normalizer<3,>=2\n",
            "  Using cached charset_normalizer-2.1.1-py3-none-any.whl (39 kB)\n",
            "Building wheels for collected packages: youtube-comment-scraper-python\n",
            "  Building wheel for youtube-comment-scraper-python (setup.py) ... \u001b[?25l-\b \bdone\n",
            "\u001b[?25h  Created wheel for youtube-comment-scraper-python: filename=youtube_comment_scraper_python-1.0.0-py3-none-any.whl size=2482 sha256=de5435f35dc4e0a557dc742594b6f73be09c12ae394c9b97eed2586f3443e0ab\n",
            "  Stored in directory: /Users/harshulnanda/Library/Caches/pip/wheels/f6/9f/b0/3fe3409f715dc587381e398bf35f036176660d9ab9ea9394ae\n",
            "Successfully built youtube-comment-scraper-python\n",
            "Installing collected packages: urllib3, tqdm, idna, charset-normalizer, certifi, requests, bot-studio, youtube-comment-scraper-python\n",
            "Successfully installed bot-studio-1.4.0 certifi-2022.9.24 charset-normalizer-2.1.1 idna-3.4 requests-2.28.1 tqdm-4.64.1 urllib3-1.26.12 youtube-comment-scraper-python-1.0.0\n",
            "\n",
            "\u001b[1m[\u001b[0m\u001b[34;49mnotice\u001b[0m\u001b[1;39;49m]\u001b[0m\u001b[39;49m A new release of pip available: \u001b[0m\u001b[31;49m22.2.2\u001b[0m\u001b[39;49m -> \u001b[0m\u001b[32;49m22.3\u001b[0m\n",
            "\u001b[1m[\u001b[0m\u001b[34;49mnotice\u001b[0m\u001b[1;39;49m]\u001b[0m\u001b[39;49m To update, run: \u001b[0m\u001b[32;49mpython3.10 -m pip install --upgrade pip\u001b[0m\n"
          ]
        }
      ],
      "execution_count": 7,
      "metadata": {
        "execution": {
          "iopub.status.busy": "2022-11-08T05:04:58.852Z",
          "iopub.execute_input": "2022-11-08T05:04:58.857Z",
          "iopub.status.idle": "2022-11-08T05:05:00.975Z",
          "shell.execute_reply": "2022-11-08T05:05:00.983Z"
        }
      },
      "id": "88852b5d-957d-4f2f-9edb-ebc69e180144"
    },
    {
      "cell_type": "code",
      "source": [
        "from youtube_comment_scraper_python import *\n",
        "import pandas as pd\n",
        "\n",
        "link = \"https://www.youtube.com/watch?v=DELvMBaj_w8\"\n",
        "saved = \"file.csv\"\n",
        "youtube.open(link)\n",
        "\n",
        "response = youtube.video_comments()\n",
        "all_data = []\n",
        "for i in range(0, 20): # It will scroll 10 times\n",
        "    response = youtube.video_comments()\n",
        "    data = response['body']\n",
        "    all_data.extend(data)\n",
        "df = pd.DataFrame(data)\n",
        "df.to_csv(saved)"
      ],
      "outputs": [
        {
          "output_type": "stream",
          "name": "stdout",
          "text": [
            "It currently works on windows only\n",
            "It currently works on windows only\n",
            "It currently works on windows only\n",
            "It currently works on windows only\n",
            "It currently works on windows only\n"
          ]
        },
        {
          "output_type": "error",
          "ename": "TypeError",
          "evalue": "'NoneType' object is not subscriptable",
          "traceback": [
            "\u001b[0;31m---------------------------------------------------------------------------\u001b[0m",
            "\u001b[0;31mTypeError\u001b[0m                                 Traceback (most recent call last)",
            "Cell \u001b[0;32mIn [10], line 12\u001b[0m\n\u001b[1;32m     10\u001b[0m \u001b[38;5;28;01mfor\u001b[39;00m i \u001b[38;5;129;01min\u001b[39;00m \u001b[38;5;28mrange\u001b[39m(\u001b[38;5;241m0\u001b[39m, \u001b[38;5;241m20\u001b[39m): \u001b[38;5;66;03m# It will scroll 10 times\u001b[39;00m\n\u001b[1;32m     11\u001b[0m     response \u001b[38;5;241m=\u001b[39m youtube\u001b[38;5;241m.\u001b[39mvideo_comments()\n\u001b[0;32m---> 12\u001b[0m     data \u001b[38;5;241m=\u001b[39m \u001b[43mresponse\u001b[49m\u001b[43m[\u001b[49m\u001b[38;5;124;43m'\u001b[39;49m\u001b[38;5;124;43mbody\u001b[39;49m\u001b[38;5;124;43m'\u001b[39;49m\u001b[43m]\u001b[49m\n\u001b[1;32m     13\u001b[0m     all_data\u001b[38;5;241m.\u001b[39mextend(data)\n\u001b[1;32m     14\u001b[0m df \u001b[38;5;241m=\u001b[39m pd\u001b[38;5;241m.\u001b[39mDataFrame(data)\n",
            "\u001b[0;31mTypeError\u001b[0m: 'NoneType' object is not subscriptable"
          ]
        }
      ],
      "execution_count": 10,
      "metadata": {
        "collapsed": true,
        "jupyter": {
          "source_hidden": false,
          "outputs_hidden": false
        },
        "nteract": {
          "transient": {
            "deleting": false
          }
        },
        "execution": {
          "iopub.status.busy": "2022-11-08T05:06:57.651Z",
          "iopub.execute_input": "2022-11-08T05:06:57.662Z"
        }
      },
      "id": "4ba618f1-ad52-4a95-9058-e854901fbaca"
    },
    {
      "cell_type": "code",
      "source": [
        "from pytube import Channel, YouTube\n",
        "import os\n",
        "from tqdm import tqdm\n",
        "import pandas as pd\n",
        "from youtubesearchpython import Video, ResultMode, Comments\n",
        "import scrapetube\n",
        "# v_id = Video.get(\"https://www.youtube.com/watch?v=wBVvi-i7uvU\", mode=ResultMode.json)[\"id\"]\n",
        "# comments = Comments.get(v_id)[\"result\"]\n",
        "\n",
        "# for comment in comments:\n",
        "#     print(comment[\"content\"])\n",
        "#     break"
      ],
      "outputs": [],
      "execution_count": 1,
      "metadata": {
        "execution": {
          "iopub.status.busy": "2022-11-08T05:10:57.387Z",
          "iopub.execute_input": "2022-11-08T05:10:57.395Z",
          "iopub.status.idle": "2022-11-08T05:10:57.897Z",
          "shell.execute_reply": "2022-11-08T05:10:57.905Z"
        }
      },
      "id": "605e960b-88f4-4ca5-90a6-9cf4d98ba0f9"
    },
    {
      "cell_type": "code",
      "source": [
        "channels = {\n",
        "    \"https://www.youtube.com/c/StudyIQcoachingcenter/videos\", # -> Study IQ Education\n",
        "    \"https://www.youtube.com/c/UnacademyJEE/videos\", # -> Unacademy JEE\n",
        "    \"https://www.youtube.com/c/MahendraGuruvideos/videos\", # -> Mahendras\n",
        "    \"https://www.youtube.com/c/Lesics/videos\", # -> Lesics\n",
        "    \"https://www.youtube.com/c/nesoacademy/videos\", # -> Neso Academy\n",
        "    \"https://www.youtube.com/c/DrGajendraPurohitMathematics/videos\", # -> Gajendra Purohit\n",
        "    \"https://www.youtube.com/c/UnacademyGATE/videos\", # -> Unacademy GATE\n",
        "    \"https://www.youtube.com/c/smartereveryday/videos\", # -> Smarter Everyday\n",
        "    \"https://www.youtube.com/c/veritasium/videos\", # -> Veritasium\n",
        "    \"https://www.youtube.com/c/TED/videos\",\n",
        "    \"https://www.youtube.com/c/mitocw/videos\",\n",
        "    \"https://www.youtube.com/c/CodeWithHarry/videos\",\n",
        "    \"https://www.youtube.com/c/SimplilearnOfficial/videos\",\n",
        "    \"https://www.youtube.com/c/DataScienceCoursesUW/videos\",\n",
        "    \"https://www.youtube.com/c/PhysicsWallah/videos\",\n",
        "    \"https://www.youtube.com/c/numberphile/videos\",\n",
        "    \"https://www.youtube.com/c/physicsgirl/videos\",\n",
        "    \"https://www.youtube.com/c/TomRocksMaths/videos\",\n",
        "    \"https://www.youtube.com/c/3blue1brown/videos\",\n",
        "    \"https://www.youtube.com/c/MichelvanBiezen/videos\",\n",
        "    \"https://www.youtube.com/c/MindYourDecisions/videos\",\n",
        "    \"https://www.youtube.com/c/crashcourse/videos\",\n",
        "    \"https://www.youtube.com/c/SciShow/videos\",\n",
        "    \"https://www.youtube.com/channel/UCF7BExjT2zH_mmyqOB139Dg/videos\",\n",
        "    \"https://www.youtube.com/c/khanacademy/videos\",\n",
        "    \"https://www.youtube.com/c/MattAnderson_ProfessorMattAnderson/videos\",\n",
        "    \"https://www.youtube.com/channel/UCVLbzhxVTiTLiVKeGV7WEBg/videos\",\n",
        "    \"https://www.youtube.com/channel/UCJgq70ZWtrVIwHEDYdj-kdg/videos\",\n",
        "    \"https://www.youtube.com/c/MichaelPennMath/videos\",\n",
        "    \"https://www.youtube.com/c/ASGamingsahil/videos\",\n",
        "    \"https://www.youtube.com/c/LOKESHGAMER/videos\",\n",
        "    \"https://www.youtube.com/c/AddictedA1/videos\",\n",
        "    \"https://www.youtube.com/aashiqui2/videos\",\n",
        "    \"https://www.youtube.com/c/SwaggerSharma/videos\",\n",
        "    \"https://www.youtube.com/user/MrBeast6000/videos\",\n",
        "    \"https://www.youtube.com/user/PewDiePie/videos\",\n",
        "    \"https://www.youtube.com/c/FlyingBeast320/videos\",\n",
        "    \"https://www.youtube.com/c/TechnicalGuruji/videos\",\n",
        "    \"https://www.youtube.com/c/ashishchanchlanivines/videos\",\n",
        "    \"https://www.youtube.com/c/setindia/videos\",\n",
        "    \"https://www.youtube.com/c/tipsofficial/videos\",\n",
        "    \"https://www.youtube.com/c/ManieshPaulOfficial/videos\",\n",
        "    \"https://www.youtube.com/channel/UCiKNX0TIMyKgGqQznhR1Xig/videos\",\n",
        "    \"https://www.youtube.com/c/BaldassarreFragrance/videos\",\n",
        "    \"https://www.youtube.com/channel/UCQvykOmBc-P4StIJT2glUkw/videos\",\n",
        "    \"https://www.youtube.com/c/mollyEskam/videos\",\n",
        "    \"https://www.youtube.com/c/abpnews/videos\",\n",
        "    \"https://www.youtube.com/c/BBCNews/videos\",\n",
        "    \"https://www.youtube.com/c/LiveInsaan/videos\",\n",
        "    \"https://www.youtube.com/c/marvel/videos\",\n",
        "    \"https://www.youtube.com/c/htdotcom/videos\",\n",
        "    \"https://www.youtube.com/c/adarshuc/videos\",\n",
        "    \"https://www.youtube.com/c/YesTheory/videos\",\n",
        "    \"https://www.youtube.com/c/ufc/videos\",\n",
        "    \"https://www.youtube.com/c/F1/videos\",\n",
        "}"
      ],
      "outputs": [],
      "execution_count": 2,
      "metadata": {
        "execution": {
          "iopub.status.busy": "2022-11-08T04:40:57.905Z",
          "iopub.execute_input": "2022-11-08T04:40:57.920Z",
          "iopub.status.idle": "2022-11-08T04:40:57.933Z",
          "shell.execute_reply": "2022-11-08T04:40:57.942Z"
        }
      },
      "id": "11ffded5-0029-404c-b473-2566213cd0c3"
    },
    {
      "cell_type": "code",
      "source": [
        "data = {\n",
        "\"text\": [],\n",
        "\"category\": [],\n",
        "}\n",
        "\n",
        "cnt = 0\n",
        "\n",
        "\n",
        "c_id = Video.get(\"https://www.youtube.com/watch?v=DELvMBaj_w8\", mode=ResultMode.json, get_upload_date=True)[\"channel\"][\"id\"]\n",
        "videos = scrapetube.get_channel(c_id)\n",
        "i = 0\n",
        "for video in tqdm(videos):\n",
        "    try:\n",
        "        v = Video.get(\"https://www.youtube.com/watch?v=\"+str(video['videoId']), mode = ResultMode.json, get_upload_date=True)\n",
        "        v_id = v[\"id\"]\n",
        "        cmnts = Comments.get(v_id)[\"result\"]\n",
        "        cat = v[\"category\"]\n",
        "        if cat in [\"Education\", \"Travel & Events\", \"People & Blogs\", \"Sports\", \"Autos & Vehicles\", \"Howto & Style\", \"Science & Technology\", \"Nonprofits & Activism\"]:\n",
        "            cat = \"Education\"\n",
        "        else:\n",
        "            cat = \"Non Education\"\n",
        "        k = 0\n",
        "        for cmnt in cmnts:\n",
        "            data[\"text\"].append(cmnt[\"content\"])\n",
        "            data[\"category\"].append(cat)\n",
        "            k += 1\n",
        "            if k == 9:\n",
        "              break\n",
        "    except Exception as e:\n",
        "        print(e)\n",
        "    i += 1\n",
        "    if i == 20:\n",
        "        break"
      ],
      "outputs": [
        {
          "output_type": "stream",
          "name": "stderr",
          "text": [
            "19it [00:43,  2.29s/it]\n"
          ]
        }
      ],
      "execution_count": 8,
      "metadata": {
        "execution": {
          "iopub.status.busy": "2022-11-08T05:14:46.608Z",
          "iopub.execute_input": "2022-11-08T05:14:46.613Z",
          "iopub.status.idle": "2022-11-08T05:15:31.130Z",
          "shell.execute_reply": "2022-11-08T05:15:31.141Z"
        }
      },
      "id": "1273be2b-2c47-4cc1-abdf-fa7e7d7800c8"
    },
    {
      "cell_type": "code",
      "source": [
        "len(data[\"category\"])"
      ],
      "outputs": [
        {
          "output_type": "execute_result",
          "execution_count": 9,
          "data": {
            "text/plain": "166"
          },
          "metadata": {}
        }
      ],
      "execution_count": 9,
      "metadata": {
        "tags": [],
        "execution": {
          "iopub.status.busy": "2022-11-08T05:15:38.358Z",
          "iopub.execute_input": "2022-11-08T05:15:38.364Z",
          "iopub.status.idle": "2022-11-08T05:15:38.376Z",
          "shell.execute_reply": "2022-11-08T05:15:38.380Z"
        }
      },
      "id": "bee2c475-dd36-46a5-bbf8-3485592b6536"
    },
    {
      "cell_type": "code",
      "source": [
        "for video in tqdm(videos):\n",
        "    try:\n",
        "        v = Video.get(video, mode = ResultMode.json, get_upload_date=True)\n",
        "        d = v[\"text\"] + \" \" + v[\"description\"]\n",
        "        c = v[\"category\"]\n",
        "        if c != \"Education\":\n",
        "            c = \"Not Education\"\n",
        "        data[\"text\"].append(d)\n",
        "        data[\"category\"].append(c)\n",
        "    except Exception as e:\n",
        "        print(e)\n",
        "        continue"
      ],
      "outputs": [
        {
          "output_type": "stream",
          "name": "stderr",
          "text": [
            "100%|███████████████████████████████████████| 2670/2670 [41:14<00:00,  1.08it/s]\n"
          ]
        }
      ],
      "execution_count": 6,
      "metadata": {},
      "id": "3de59ab7-b8c0-4a62-b7f5-b40396d28396"
    },
    {
      "cell_type": "code",
      "source": [
        "dataset = pd.DataFrame(data)\n",
        "print(dataset.head())"
      ],
      "outputs": [
        {
          "output_type": "stream",
          "name": "stdout",
          "text": [
            "                                                text   category\n",
            "0              Now I'm gonna master organic for sure  Education\n",
            "1                                        Thanks sir   Education\n",
            "2                 wow dost....thnx for the strategy   Education\n",
            "3  Sir please put complete thermodynamics in one ...  Education\n",
            "4                             Thank you so much dost  Education\n"
          ]
        }
      ],
      "execution_count": 10,
      "metadata": {
        "execution": {
          "iopub.status.busy": "2022-11-08T05:15:42.630Z",
          "iopub.execute_input": "2022-11-08T05:15:42.639Z",
          "iopub.status.idle": "2022-11-08T05:15:42.651Z",
          "shell.execute_reply": "2022-11-08T05:15:42.663Z"
        }
      },
      "id": "05293d93-b21b-45ff-bd51-6ffede3f24a8"
    },
    {
      "cell_type": "code",
      "source": [
        "dataset.category.value_counts()"
      ],
      "outputs": [
        {
          "output_type": "execute_result",
          "execution_count": 11,
          "data": {
            "text/plain": "Education    166\nName: category, dtype: int64"
          },
          "metadata": {}
        }
      ],
      "execution_count": 11,
      "metadata": {
        "execution": {
          "iopub.status.busy": "2022-11-08T05:16:19.207Z",
          "iopub.execute_input": "2022-11-08T05:16:19.216Z",
          "iopub.status.idle": "2022-11-08T05:16:19.238Z",
          "shell.execute_reply": "2022-11-08T05:16:19.247Z"
        }
      },
      "id": "841e30f1-a5d8-4a69-bdea-4283edb0c8fb"
    },
    {
      "cell_type": "code",
      "source": [
        "dataset.to_csv(\"nonEduData5.csv\")"
      ],
      "outputs": [],
      "execution_count": 42,
      "metadata": {
        "execution": {
          "iopub.status.busy": "2022-10-27T17:03:46.948Z",
          "iopub.execute_input": "2022-10-27T17:03:46.963Z",
          "iopub.status.idle": "2022-10-27T17:03:47.013Z",
          "shell.execute_reply": "2022-10-27T17:03:47.016Z"
        }
      },
      "id": "09575933-626d-4b02-a42b-b449edc54d79"
    },
    {
      "cell_type": "code",
      "source": [
        "channel_ids = pd.read_csv(\"channels.csv\")[\"channel_id\"].to_list()\n",
        "channel_ids[:2], len(channel_ids)\n",
        "channels = [\"https://www.youtube.com/channel/\" + cid + \"/videos\" for cid in channel_ids]\n",
        "channels[:5], len(channels)"
      ],
      "outputs": [
        {
          "output_type": "execute_result",
          "execution_count": 2,
          "data": {
            "text/plain": "(['https://www.youtube.com/channel/UC-lHJZR3Gqxm24_Vd_AJ5Yw/videos',\n  'https://www.youtube.com/channel/UCq-Fj5jknLsUf-MWSy4_brA/videos',\n  'https://www.youtube.com/channel/UCIwFjwMjI0y7PDBVEO9-bkQ/videos',\n  'https://www.youtube.com/channel/UC295-Dw_tDNtZXFeAPAW6Aw/videos',\n  'https://www.youtube.com/channel/UCJ5v_MCY6GNUBTO8-D3XoAg/videos'],\n 104752)"
          },
          "metadata": {}
        }
      ],
      "execution_count": 2,
      "metadata": {
        "execution": {
          "iopub.status.busy": "2022-10-27T09:47:09.332Z",
          "iopub.execute_input": "2022-10-27T09:47:09.342Z",
          "iopub.status.idle": "2022-10-27T09:47:09.980Z",
          "shell.execute_reply": "2022-10-27T09:47:09.988Z"
        }
      },
      "id": "412b5f8c-6dac-49b4-a029-6760620ec93b"
    },
    {
      "cell_type": "code",
      "source": [
        "channels_part_1 = channels[:10]\n",
        "channels_part_2 = channels[11:]"
      ],
      "outputs": [],
      "execution_count": 3,
      "metadata": {
        "collapsed": true,
        "jupyter": {
          "source_hidden": false,
          "outputs_hidden": false
        },
        "nteract": {
          "transient": {
            "deleting": false
          }
        },
        "execution": {
          "iopub.status.busy": "2022-10-27T09:45:53.998Z",
          "iopub.execute_input": "2022-10-27T09:45:54.008Z",
          "iopub.status.idle": "2022-10-27T09:45:54.014Z",
          "shell.execute_reply": "2022-10-27T09:45:54.035Z"
        }
      },
      "id": "a30339aa-7ad8-4f1d-bf0b-79b9b3649eab"
    },
    {
      "cell_type": "code",
      "source": [
        "df = pd.concat(\n",
        "  [ pd.read_csv(f\"nonEduData{i}.csv\") for i in range(1,6) ],\n",
        "  ignore_index=True,\n",
        ")"
      ],
      "outputs": [],
      "execution_count": 43,
      "metadata": {
        "collapsed": true,
        "jupyter": {
          "source_hidden": false,
          "outputs_hidden": false
        },
        "nteract": {
          "transient": {
            "deleting": false
          }
        },
        "execution": {
          "iopub.status.busy": "2022-10-27T17:05:30.572Z",
          "iopub.execute_input": "2022-10-27T17:05:30.575Z",
          "iopub.status.idle": "2022-10-27T17:05:30.682Z",
          "shell.execute_reply": "2022-10-27T17:05:30.689Z"
        }
      },
      "id": "54449496-28db-4f4b-820c-5e5394f74670"
    },
    {
      "cell_type": "code",
      "source": [
        "df.head()"
      ],
      "outputs": [
        {
          "output_type": "execute_result",
          "execution_count": 44,
          "data": {
            "text/plain": "   Unnamed: 0                                               text  \\\n0           0  She fell for it! #AD- Pick up the Mertz-design...   \n1           1  Does this mean Im cursed now? #AD - My new bro...   \n2           2  I took my car off road ... (Oops) Thank you fo...   \n3           3  I bought every single Gacha Pod.... (Collab wi...   \n4           4  Are we smarter than A Fifth Grader? (Collab wi...   \n\n        category  \n0  Not Education  \n1  Not Education  \n2  Not Education  \n3  Not Education  \n4  Not Education  ",
            "text/html": "<div>\n<style scoped>\n    .dataframe tbody tr th:only-of-type {\n        vertical-align: middle;\n    }\n\n    .dataframe tbody tr th {\n        vertical-align: top;\n    }\n\n    .dataframe thead th {\n        text-align: right;\n    }\n</style>\n<table border=\"1\" class=\"dataframe\">\n  <thead>\n    <tr style=\"text-align: right;\">\n      <th></th>\n      <th>Unnamed: 0</th>\n      <th>text</th>\n      <th>category</th>\n    </tr>\n  </thead>\n  <tbody>\n    <tr>\n      <th>0</th>\n      <td>0</td>\n      <td>She fell for it! #AD- Pick up the Mertz-design...</td>\n      <td>Not Education</td>\n    </tr>\n    <tr>\n      <th>1</th>\n      <td>1</td>\n      <td>Does this mean Im cursed now? #AD - My new bro...</td>\n      <td>Not Education</td>\n    </tr>\n    <tr>\n      <th>2</th>\n      <td>2</td>\n      <td>I took my car off road ... (Oops) Thank you fo...</td>\n      <td>Not Education</td>\n    </tr>\n    <tr>\n      <th>3</th>\n      <td>3</td>\n      <td>I bought every single Gacha Pod.... (Collab wi...</td>\n      <td>Not Education</td>\n    </tr>\n    <tr>\n      <th>4</th>\n      <td>4</td>\n      <td>Are we smarter than A Fifth Grader? (Collab wi...</td>\n      <td>Not Education</td>\n    </tr>\n  </tbody>\n</table>\n</div>"
          },
          "metadata": {}
        }
      ],
      "execution_count": 44,
      "metadata": {
        "collapsed": true,
        "jupyter": {
          "source_hidden": false,
          "outputs_hidden": false
        },
        "nteract": {
          "transient": {
            "deleting": false
          }
        },
        "execution": {
          "iopub.status.busy": "2022-10-27T17:05:34.796Z",
          "iopub.execute_input": "2022-10-27T17:05:34.802Z",
          "iopub.status.idle": "2022-10-27T17:05:34.886Z",
          "shell.execute_reply": "2022-10-27T17:05:34.893Z"
        }
      },
      "id": "2d1c4e2a-2b23-4419-884f-caedd6ae7fb9"
    },
    {
      "cell_type": "code",
      "source": [
        "df.category.unique()"
      ],
      "outputs": [
        {
          "output_type": "execute_result",
          "execution_count": 57,
          "data": {
            "text/plain": "array(['Not Education', 'Education'], dtype=object)"
          },
          "metadata": {}
        }
      ],
      "execution_count": 57,
      "metadata": {
        "collapsed": true,
        "jupyter": {
          "source_hidden": false,
          "outputs_hidden": false
        },
        "nteract": {
          "transient": {
            "deleting": false
          }
        },
        "execution": {
          "iopub.status.busy": "2022-10-27T17:09:00.082Z",
          "iopub.execute_input": "2022-10-27T17:09:00.087Z",
          "iopub.status.idle": "2022-10-27T17:09:00.102Z",
          "shell.execute_reply": "2022-10-27T17:09:00.105Z"
        }
      },
      "id": "89cc1521-6ab2-421d-a39b-6ad346a54597"
    },
    {
      "cell_type": "code",
      "source": [
        "df1 = pd.read_csv(\"TheEduAndNonEduDataset.csv\")"
      ],
      "outputs": [],
      "execution_count": 52,
      "metadata": {
        "collapsed": true,
        "jupyter": {
          "source_hidden": false,
          "outputs_hidden": false
        },
        "nteract": {
          "transient": {
            "deleting": false
          }
        },
        "execution": {
          "iopub.status.busy": "2022-10-27T17:08:28.510Z",
          "iopub.execute_input": "2022-10-27T17:08:28.517Z",
          "iopub.status.idle": "2022-10-27T17:08:29.223Z",
          "shell.execute_reply": "2022-10-27T17:08:29.231Z"
        }
      },
      "id": "3bd2a066-68b6-4dd3-9669-4a28f00a1327"
    },
    {
      "cell_type": "code",
      "source": [
        "df1.loc[df1[\"category\"] == \"Educational\", \"category\"] = \"Education\""
      ],
      "outputs": [],
      "execution_count": 54,
      "metadata": {
        "collapsed": true,
        "jupyter": {
          "source_hidden": false,
          "outputs_hidden": false
        },
        "nteract": {
          "transient": {
            "deleting": false
          }
        },
        "execution": {
          "iopub.status.busy": "2022-10-27T17:08:38.048Z",
          "iopub.execute_input": "2022-10-27T17:08:38.057Z",
          "iopub.status.idle": "2022-10-27T17:08:38.065Z",
          "shell.execute_reply": "2022-10-27T17:08:38.079Z"
        }
      },
      "id": "94a518b0-1e82-497f-b25f-d894dc5cf6c7"
    },
    {
      "cell_type": "code",
      "source": [
        "df1.category.unique()"
      ],
      "outputs": [
        {
          "output_type": "execute_result",
          "execution_count": 55,
          "data": {
            "text/plain": "array(['Education', 'Non Education'], dtype=object)"
          },
          "metadata": {}
        }
      ],
      "execution_count": 55,
      "metadata": {
        "collapsed": true,
        "jupyter": {
          "source_hidden": false,
          "outputs_hidden": false
        },
        "nteract": {
          "transient": {
            "deleting": false
          }
        },
        "execution": {
          "iopub.status.busy": "2022-10-27T17:08:39.534Z",
          "iopub.execute_input": "2022-10-27T17:08:39.541Z",
          "iopub.status.idle": "2022-10-27T17:08:39.564Z",
          "shell.execute_reply": "2022-10-27T17:08:39.568Z"
        }
      },
      "id": "d9985f5b-1032-486c-9e07-cddf9fc01fae"
    },
    {
      "cell_type": "code",
      "source": [
        "df = pd.concat([df, df1], ignore_index=True)\n",
        "df.shape"
      ],
      "outputs": [
        {
          "output_type": "execute_result",
          "execution_count": 58,
          "data": {
            "text/plain": "(99827, 3)"
          },
          "metadata": {}
        }
      ],
      "execution_count": 58,
      "metadata": {
        "collapsed": true,
        "jupyter": {
          "source_hidden": false,
          "outputs_hidden": false
        },
        "nteract": {
          "transient": {
            "deleting": false
          }
        },
        "execution": {
          "iopub.status.busy": "2022-10-27T17:09:12.686Z",
          "iopub.execute_input": "2022-10-27T17:09:12.695Z",
          "iopub.status.idle": "2022-10-27T17:09:12.705Z",
          "shell.execute_reply": "2022-10-27T17:09:12.708Z"
        }
      },
      "id": "cfab3d62-55a2-4757-a544-14620f3af79f"
    },
    {
      "cell_type": "code",
      "source": [
        "df.head()"
      ],
      "outputs": [
        {
          "output_type": "execute_result",
          "execution_count": 59,
          "data": {
            "text/plain": "   Unnamed: 0                                               text  \\\n0           0  She fell for it! #AD- Pick up the Mertz-design...   \n1           1  Does this mean Im cursed now? #AD - My new bro...   \n2           2  I took my car off road ... (Oops) Thank you fo...   \n3           3  I bought every single Gacha Pod.... (Collab wi...   \n4           4  Are we smarter than A Fifth Grader? (Collab wi...   \n\n        category  \n0  Not Education  \n1  Not Education  \n2  Not Education  \n3  Not Education  \n4  Not Education  ",
            "text/html": "<div>\n<style scoped>\n    .dataframe tbody tr th:only-of-type {\n        vertical-align: middle;\n    }\n\n    .dataframe tbody tr th {\n        vertical-align: top;\n    }\n\n    .dataframe thead th {\n        text-align: right;\n    }\n</style>\n<table border=\"1\" class=\"dataframe\">\n  <thead>\n    <tr style=\"text-align: right;\">\n      <th></th>\n      <th>Unnamed: 0</th>\n      <th>text</th>\n      <th>category</th>\n    </tr>\n  </thead>\n  <tbody>\n    <tr>\n      <th>0</th>\n      <td>0</td>\n      <td>She fell for it! #AD- Pick up the Mertz-design...</td>\n      <td>Not Education</td>\n    </tr>\n    <tr>\n      <th>1</th>\n      <td>1</td>\n      <td>Does this mean Im cursed now? #AD - My new bro...</td>\n      <td>Not Education</td>\n    </tr>\n    <tr>\n      <th>2</th>\n      <td>2</td>\n      <td>I took my car off road ... (Oops) Thank you fo...</td>\n      <td>Not Education</td>\n    </tr>\n    <tr>\n      <th>3</th>\n      <td>3</td>\n      <td>I bought every single Gacha Pod.... (Collab wi...</td>\n      <td>Not Education</td>\n    </tr>\n    <tr>\n      <th>4</th>\n      <td>4</td>\n      <td>Are we smarter than A Fifth Grader? (Collab wi...</td>\n      <td>Not Education</td>\n    </tr>\n  </tbody>\n</table>\n</div>"
          },
          "metadata": {}
        }
      ],
      "execution_count": 59,
      "metadata": {
        "collapsed": true,
        "jupyter": {
          "source_hidden": false,
          "outputs_hidden": false
        },
        "nteract": {
          "transient": {
            "deleting": false
          }
        },
        "execution": {
          "iopub.status.busy": "2022-10-27T17:09:26.913Z",
          "iopub.execute_input": "2022-10-27T17:09:26.917Z",
          "iopub.status.idle": "2022-10-27T17:09:26.980Z",
          "shell.execute_reply": "2022-10-27T17:09:26.985Z"
        }
      },
      "id": "68188e50-d127-4a59-aab4-b7367a491ec0"
    },
    {
      "cell_type": "code",
      "source": [
        "df.category.value_counts()"
      ],
      "outputs": [
        {
          "output_type": "execute_result",
          "execution_count": 62,
          "data": {
            "text/plain": "Education        66173\nNon Education    33654\nName: category, dtype: int64"
          },
          "metadata": {}
        }
      ],
      "execution_count": 62,
      "metadata": {
        "collapsed": true,
        "jupyter": {
          "source_hidden": false,
          "outputs_hidden": false
        },
        "nteract": {
          "transient": {
            "deleting": false
          }
        },
        "execution": {
          "iopub.status.busy": "2022-10-27T17:10:27.196Z",
          "iopub.execute_input": "2022-10-27T17:10:27.201Z",
          "iopub.status.idle": "2022-10-27T17:10:27.215Z",
          "shell.execute_reply": "2022-10-27T17:10:27.218Z"
        }
      },
      "id": "0f0b3e5f-a347-483c-b5b2-ac174812fccb"
    },
    {
      "cell_type": "code",
      "source": [
        "df.loc[df[\"category\"] == \"Not Education\", \"category\"] = \"Non Education\""
      ],
      "outputs": [],
      "execution_count": 61,
      "metadata": {
        "collapsed": true,
        "jupyter": {
          "source_hidden": false,
          "outputs_hidden": false
        },
        "nteract": {
          "transient": {
            "deleting": false
          }
        },
        "execution": {
          "iopub.status.busy": "2022-10-27T17:10:25.038Z",
          "iopub.execute_input": "2022-10-27T17:10:25.043Z",
          "iopub.status.idle": "2022-10-27T17:10:25.054Z",
          "shell.execute_reply": "2022-10-27T17:10:25.058Z"
        }
      },
      "id": "2807dbad-c1a2-4eb7-94d8-3506eee05669"
    },
    {
      "cell_type": "code",
      "source": [
        "df = df[[\"text\", \"category\"]].drop_duplicates(keep=\"first\")"
      ],
      "outputs": [],
      "execution_count": 65,
      "metadata": {
        "collapsed": true,
        "jupyter": {
          "source_hidden": false,
          "outputs_hidden": false
        },
        "nteract": {
          "transient": {
            "deleting": false
          }
        },
        "execution": {
          "iopub.status.busy": "2022-10-27T17:11:40.908Z",
          "iopub.execute_input": "2022-10-27T17:11:40.914Z",
          "iopub.status.idle": "2022-10-27T17:11:41.213Z",
          "shell.execute_reply": "2022-10-27T17:11:41.216Z"
        }
      },
      "id": "47745052-fd0c-4c17-b334-6daab4b77bf6"
    },
    {
      "cell_type": "code",
      "source": [
        "df.to_csv(\"END.csv\")"
      ],
      "outputs": [],
      "execution_count": 69,
      "metadata": {
        "collapsed": true,
        "jupyter": {
          "source_hidden": false,
          "outputs_hidden": false
        },
        "nteract": {
          "transient": {
            "deleting": false
          }
        },
        "execution": {
          "iopub.status.busy": "2022-10-27T17:12:12.389Z",
          "iopub.execute_input": "2022-10-27T17:12:12.394Z",
          "iopub.status.idle": "2022-10-27T17:12:13.623Z",
          "shell.execute_reply": "2022-10-27T17:12:13.626Z"
        }
      },
      "id": "61d6e0a4-1833-4a5b-91ef-b91db98a14ec"
    },
    {
      "cell_type": "code",
      "source": [],
      "outputs": [],
      "execution_count": null,
      "metadata": {
        "collapsed": true,
        "jupyter": {
          "source_hidden": false,
          "outputs_hidden": false
        },
        "nteract": {
          "transient": {
            "deleting": false
          }
        }
      },
      "id": "98ac6b1e-a9f6-4642-ad1d-0a9856cc1484"
    }
  ],
  "metadata": {
    "kernelspec": {
      "display_name": "Python 3 (ipykernel)",
      "language": "python",
      "name": "python3"
    },
    "language_info": {
      "name": "python",
      "version": "3.10.6",
      "mimetype": "text/x-python",
      "codemirror_mode": {
        "name": "ipython",
        "version": 3
      },
      "pygments_lexer": "ipython3",
      "nbconvert_exporter": "python",
      "file_extension": ".py"
    },
    "nteract": {
      "version": "0.28.0"
    }
  },
  "nbformat": 4,
  "nbformat_minor": 5
}